{
 "cells": [
  {
   "cell_type": "code",
   "execution_count": 1,
   "metadata": {},
   "outputs": [
    {
     "name": "stderr",
     "output_type": "stream",
     "text": [
      "Using TensorFlow backend.\n"
     ]
    }
   ],
   "source": [
    "import tensorflow as tf\n",
    "from keras.models import load_model"
   ]
  },
  {
   "cell_type": "code",
   "execution_count": 2,
   "metadata": {},
   "outputs": [],
   "source": [
    "classifier = load_model('/path/to/model/directory/iRSVPred2_model.h5')"
   ]
  },
  {
   "cell_type": "code",
   "execution_count": 3,
   "metadata": {},
   "outputs": [],
   "source": [
    "from tensorflow.keras.preprocessing import image\n",
    "import matplotlib.pyplot as plt\n",
    "import sklearn.metrics as metrics\n",
    "import numpy as np\n",
    "from keras.preprocessing.image import ImageDataGenerator"
   ]
  },
  {
   "cell_type": "code",
   "execution_count": 14,
   "metadata": {},
   "outputs": [
    {
     "name": "stdout",
     "output_type": "stream",
     "text": [
      "[[9.9999893e-01 3.8615294e-08 4.7219748e-09 9.4768982e-10 2.6452197e-08\n",
      "  1.5295056e-08 1.0054850e-06 3.1013709e-08 1.6366110e-10 1.2423714e-09\n",
      "  6.0312209e-09]]\n"
     ]
    }
   ],
   "source": [
    "from tensorflow.keras.preprocessing import image\n",
    "import matplotlib.pyplot as plt\n",
    "import numpy as np\n",
    "img1 = image.load_img('/image/path/image.jpg', target_size=(299, 299))\n",
    "img = image.img_to_array(img1)\n",
    "img = img/255\n",
    "# create a batch of size 1 [N,H,W,C]\n",
    "img = np.expand_dims(img, axis=0)\n",
    "prediction = classifier.predict(img, batch_size=None,steps=1) #gives all class prob.\n",
    "print(prediction)"
   ]
  },
  {
   "cell_type": "code",
   "execution_count": 14,
   "metadata": {},
   "outputs": [
    {
     "name": "stdout",
     "output_type": "stream",
     "text": [
      "Found 19260 images belonging to 11 classes.\n",
      "Confusion Matrix\n",
      "[[1473   14    0   11    2    0    0    0    0    0    0]\n",
      " [   1 1496    0    3    0    0    0    0    0    0    0]\n",
      " [   0    0 1330    0   21    0    3    0  126   20    0]\n",
      " [  71   48    0 1381    0    0    0    0    0    0    0]\n",
      " [ 105   29    0   67 1293    0    6    0    0    0    0]\n",
      " [   0    0    0    0    0 1500    0    0    0    0    0]\n",
      " [   0    0    0    0    0    0 1496    0    2    2    0]\n",
      " [   0    0    0    0    0    0    0 1500    0    0    0]\n",
      " [   0    0    1    0    0    0    1    0 1498    0    0]\n",
      " [   0    0   37    0    0    0   36    0   31 1396    0]\n",
      " [   0    0    0    1    1    0    0    0   15    1 4242]]\n",
      "Classification Report\n",
      "              precision    recall  f1-score   support\n",
      "\n",
      "           0       0.89      0.98      0.94      1500\n",
      "           1       0.94      1.00      0.97      1500\n",
      "           2       0.97      0.89      0.93      1500\n",
      "           3       0.94      0.92      0.93      1500\n",
      "           4       0.98      0.86      0.92      1500\n",
      "           5       1.00      1.00      1.00      1500\n",
      "           6       0.97      1.00      0.98      1500\n",
      "           7       1.00      1.00      1.00      1500\n",
      "           8       0.90      1.00      0.94      1500\n",
      "           9       0.98      0.93      0.96      1500\n",
      "          10       1.00      1.00      1.00      4260\n",
      "\n",
      "    accuracy                           0.97     19260\n",
      "   macro avg       0.96      0.96      0.96     19260\n",
      "weighted avg       0.97      0.97      0.97     19260\n",
      "\n"
     ]
    }
   ],
   "source": [
    "evaluation_data_dir= '/path/to/test/directory/'\n",
    "evaluation_datagen = ImageDataGenerator(rescale=1./255)\n",
    "\n",
    "evaluation_generator = evaluation_datagen.flow_from_directory(evaluation_data_dir,target_size=(img_rows,img_cols),\n",
    "                                                              batch_size=batch_size,\n",
    "                                                              classes=['1121','1509','1637','1718','1728','BAS_370','CSR_30','DHBT_3','PB1','PB_6','Unknown'],\n",
    "                                                   class_mode='categorical', shuffle = False)\n",
    "true_classes = evaluation_generator.classes\n",
    "class_labels = list(evaluation_generator.class_indices)   \n",
    "\n",
    "class_labels\n",
    "\n",
    "target_names = ['1121','1509','1637','1718','1728','BAS_370','CSR_30','DHBT_3','PB1','PB_6','Unknown']\n",
    "Y_pred = classifier.predict_generator(evaluation_generator, 19260 // batch_size+1)\n",
    "y_pred = np.argmax(Y_pred, axis=1)\n",
    "print('Confusion Matrix')\n",
    "cm = metrics.confusion_matrix(evaluation_generator.classes, y_pred)\n",
    "print(cm)\n",
    "print('Classification Report')\n",
    "print(metrics.classification_report(evaluation_generator.classes, y_pred))"
   ]
  },
  {
   "cell_type": "code",
   "execution_count": null,
   "metadata": {},
   "outputs": [],
   "source": []
  }
 ],
 "metadata": {
  "kernelspec": {
   "display_name": "Python 3",
   "language": "python",
   "name": "python3"
  },
  "language_info": {
   "codemirror_mode": {
    "name": "ipython",
    "version": 3
   },
   "file_extension": ".py",
   "mimetype": "text/x-python",
   "name": "python",
   "nbconvert_exporter": "python",
   "pygments_lexer": "ipython3",
   "version": "3.8.5"
  }
 },
 "nbformat": 4,
 "nbformat_minor": 4
}
